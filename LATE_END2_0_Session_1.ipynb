{
  "nbformat": 4,
  "nbformat_minor": 0,
  "metadata": {
    "colab": {
      "name": "LATE_END2.0 Session 1.ipynb",
      "provenance": [],
      "collapsed_sections": [],
      "include_colab_link": true
    },
    "kernelspec": {
      "name": "python3",
      "display_name": "Python 3"
    },
    "language_info": {
      "name": "python"
    }
  },
  "cells": [
    {
      "cell_type": "markdown",
      "metadata": {
        "id": "view-in-github",
        "colab_type": "text"
      },
      "source": [
        "<a href=\"https://colab.research.google.com/github/Abhinavl3v3l/end2.0/blob/main/LATE_END2_0_Session_1.ipynb\" target=\"_parent\"><img src=\"https://colab.research.google.com/assets/colab-badge.svg\" alt=\"Open In Colab\"/></a>"
      ]
    },
    {
      "cell_type": "code",
      "metadata": {
        "colab": {
          "base_uri": "https://localhost:8080/"
        },
        "id": "GC_6PeobwwkH",
        "outputId": "200fb4b2-cea3-4e9a-9731-d12daf9ba4d5"
      },
      "source": [
        "import torch\n",
        "from torch.autograd import Variable\n",
        "import torch.nn as nn\n",
        "import torch.nn.functional as F\n",
        "import torch.optim as optim\n",
        "import numpy as np\n",
        "import matplotlib.pyplot as plt\n",
        "%matplotlib inline\n",
        "torch.manual_seed(2)"
      ],
      "execution_count": 1,
      "outputs": [
        {
          "output_type": "execute_result",
          "data": {
            "text/plain": [
              "<torch._C.Generator at 0x7f2c9197a990>"
            ]
          },
          "metadata": {
            "tags": []
          },
          "execution_count": 1
        }
      ]
    },
    {
      "cell_type": "code",
      "metadata": {
        "id": "bL64bMTkw2GP"
      },
      "source": [
        "X = torch.Tensor([[0,0], [0,1], [1,0], [1,1]])\n",
        "Y = torch.Tensor([1, 0, 0, 1]).view(-1,1)"
      ],
      "execution_count": 2,
      "outputs": []
    },
    {
      "cell_type": "code",
      "metadata": {
        "id": "aC82kEAIw3Wf"
      },
      "source": [
        "class XOR(nn.Module):\n",
        "    def __init__(self, input_dim = 2, output_dim=1):\n",
        "        super(XOR, self).__init__()\n",
        "        self.lin1 = nn.Linear(input_dim, 7)\n",
        "        self.lin2 = nn.Linear(7, 2)\n",
        "        self.lin3 = nn.Linear(2, output_dim)\n",
        "    def forward(self, x):\n",
        "        x = self.lin1(x)\n",
        "        x = F.tanh(x)\n",
        "        x = self.lin2(x)\n",
        "        x = F.tanh(x)\n",
        "        x = self.lin3(x)\n",
        "        return x"
      ],
      "execution_count": 3,
      "outputs": []
    },
    {
      "cell_type": "code",
      "metadata": {
        "colab": {
          "base_uri": "https://localhost:8080/"
        },
        "id": "8gQIQExYw65K",
        "outputId": "112952a2-7d2e-4b53-fd02-c9c83e8e0dc7"
      },
      "source": [
        "model = XOR()\n",
        "print(model)\n",
        "from torchsummary import summary\n",
        "summary(model, (2,2))"
      ],
      "execution_count": 4,
      "outputs": [
        {
          "output_type": "stream",
          "text": [
            "XOR(\n",
            "  (lin1): Linear(in_features=2, out_features=7, bias=True)\n",
            "  (lin2): Linear(in_features=7, out_features=2, bias=True)\n",
            "  (lin3): Linear(in_features=2, out_features=1, bias=True)\n",
            ")\n",
            "----------------------------------------------------------------\n",
            "        Layer (type)               Output Shape         Param #\n",
            "================================================================\n",
            "            Linear-1                 [-1, 2, 7]              21\n",
            "            Linear-2                 [-1, 2, 2]              16\n",
            "            Linear-3                 [-1, 2, 1]               3\n",
            "================================================================\n",
            "Total params: 40\n",
            "Trainable params: 40\n",
            "Non-trainable params: 0\n",
            "----------------------------------------------------------------\n",
            "Input size (MB): 0.00\n",
            "Forward/backward pass size (MB): 0.00\n",
            "Params size (MB): 0.00\n",
            "Estimated Total Size (MB): 0.00\n",
            "----------------------------------------------------------------\n"
          ],
          "name": "stdout"
        },
        {
          "output_type": "stream",
          "text": [
            "/usr/local/lib/python3.7/dist-packages/torch/nn/functional.py:1698: UserWarning: nn.functional.tanh is deprecated. Use torch.tanh instead.\n",
            "  warnings.warn(\"nn.functional.tanh is deprecated. Use torch.tanh instead.\")\n"
          ],
          "name": "stderr"
        }
      ]
    },
    {
      "cell_type": "code",
      "metadata": {
        "id": "yeotEq19x6XF"
      },
      "source": [
        "def weights_init(model):\n",
        "    for m in model.modules():\n",
        "        if isinstance(m, nn.Linear):\n",
        "            # initialize the weight tensor, here we use a normal distribution\n",
        "            m.weight.data.normal_(0, 1)\n",
        "\n",
        "weights_init(model)"
      ],
      "execution_count": 5,
      "outputs": []
    },
    {
      "cell_type": "code",
      "metadata": {
        "id": "WrD_sNzLx78e"
      },
      "source": [
        "loss_func = nn.L1Loss()"
      ],
      "execution_count": 6,
      "outputs": []
    },
    {
      "cell_type": "code",
      "metadata": {
        "id": "-zvbrMd2x_lA"
      },
      "source": [
        "optimizer = optim.SGD(model.parameters(), lr=0.02, momentum=0.9)\n"
      ],
      "execution_count": 7,
      "outputs": []
    },
    {
      "cell_type": "code",
      "metadata": {
        "colab": {
          "base_uri": "https://localhost:8080/"
        },
        "id": "q7tWa3D7yA5X",
        "outputId": "b86ec5a9-1f3f-4ad0-8775-e2b80970d632"
      },
      "source": [
        "epochs = 2001\n",
        "steps = X.size(0)\n",
        "for i in range(epochs):\n",
        "    for j in range(steps):\n",
        "        data_point = np.random.randint(X.size(0))\n",
        "        x_var = Variable(X[data_point], requires_grad=False)\n",
        "        y_var = Variable(Y[data_point], requires_grad=False)\n",
        "        \n",
        "        optimizer.zero_grad()\n",
        "        y_hat = model(x_var)\n",
        "        loss = loss_func.forward(y_hat, y_var)\n",
        "        loss.backward()\n",
        "        optimizer.step()\n",
        "        \n",
        "    if i % 50 == 0:\n",
        "        print( \"Epoch: {0}, Loss: {1}, \".format(i, loss.data.numpy()))"
      ],
      "execution_count": 8,
      "outputs": [
        {
          "output_type": "stream",
          "text": [
            "Epoch: 0, Loss: 1.2564367055892944, \n"
          ],
          "name": "stdout"
        },
        {
          "output_type": "stream",
          "text": [
            "/usr/local/lib/python3.7/dist-packages/torch/nn/functional.py:1698: UserWarning: nn.functional.tanh is deprecated. Use torch.tanh instead.\n",
            "  warnings.warn(\"nn.functional.tanh is deprecated. Use torch.tanh instead.\")\n"
          ],
          "name": "stderr"
        },
        {
          "output_type": "stream",
          "text": [
            "Epoch: 50, Loss: 0.724348783493042, \n",
            "Epoch: 100, Loss: 0.12416309118270874, \n",
            "Epoch: 150, Loss: 0.7608178853988647, \n",
            "Epoch: 200, Loss: 0.12943106889724731, \n",
            "Epoch: 250, Loss: 0.19502699375152588, \n",
            "Epoch: 300, Loss: 0.028884142637252808, \n",
            "Epoch: 350, Loss: 0.014663338661193848, \n",
            "Epoch: 400, Loss: 0.08935022354125977, \n",
            "Epoch: 450, Loss: 0.4045836925506592, \n",
            "Epoch: 500, Loss: 0.14140915870666504, \n",
            "Epoch: 550, Loss: 0.22832641005516052, \n",
            "Epoch: 600, Loss: 0.35412245988845825, \n",
            "Epoch: 650, Loss: 0.030242614448070526, \n",
            "Epoch: 700, Loss: 0.052591145038604736, \n",
            "Epoch: 750, Loss: 0.24902689456939697, \n",
            "Epoch: 800, Loss: 0.7339751720428467, \n",
            "Epoch: 850, Loss: 0.003813326358795166, \n",
            "Epoch: 900, Loss: 0.07980555295944214, \n",
            "Epoch: 950, Loss: 0.045714568346738815, \n",
            "Epoch: 1000, Loss: 0.47114354372024536, \n",
            "Epoch: 1050, Loss: 0.011466339230537415, \n",
            "Epoch: 1100, Loss: 0.04236757755279541, \n",
            "Epoch: 1150, Loss: 0.18259745836257935, \n",
            "Epoch: 1200, Loss: 0.2384711503982544, \n",
            "Epoch: 1250, Loss: 0.07323932647705078, \n",
            "Epoch: 1300, Loss: 0.4795944094657898, \n",
            "Epoch: 1350, Loss: 0.2104351669549942, \n",
            "Epoch: 1400, Loss: 0.04776871204376221, \n",
            "Epoch: 1450, Loss: 0.10914850234985352, \n",
            "Epoch: 1500, Loss: 0.14577722549438477, \n",
            "Epoch: 1550, Loss: 0.11891520023345947, \n",
            "Epoch: 1600, Loss: 0.2578955888748169, \n",
            "Epoch: 1650, Loss: 0.36106741428375244, \n",
            "Epoch: 1700, Loss: 0.34402310848236084, \n",
            "Epoch: 1750, Loss: 0.1343061476945877, \n",
            "Epoch: 1800, Loss: 0.3329536020755768, \n",
            "Epoch: 1850, Loss: 0.10458064079284668, \n",
            "Epoch: 1900, Loss: 0.29656046628952026, \n",
            "Epoch: 1950, Loss: 0.16291499137878418, \n",
            "Epoch: 2000, Loss: 0.17639529705047607, \n"
          ],
          "name": "stdout"
        }
      ]
    },
    {
      "cell_type": "code",
      "metadata": {
        "id": "QV0dIdveyCRi"
      },
      "source": [
        ""
      ],
      "execution_count": 8,
      "outputs": []
    }
  ]
}