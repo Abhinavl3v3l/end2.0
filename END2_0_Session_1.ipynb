{
  "nbformat": 4,
  "nbformat_minor": 0,
  "metadata": {
    "colab": {
      "name": " END2.0 Session 1.ipynb",
      "provenance": [],
      "collapsed_sections": [],
      "include_colab_link": true
    },
    "kernelspec": {
      "name": "python3",
      "display_name": "Python 3"
    },
    "language_info": {
      "name": "python"
    }
  },
  "cells": [
    {
      "cell_type": "markdown",
      "metadata": {
        "id": "view-in-github",
        "colab_type": "text"
      },
      "source": [
        "<a href=\"https://colab.research.google.com/github/Abhinavl3v3l/end2.0/blob/main/END2_0_Session_1.ipynb\" target=\"_parent\"><img src=\"https://colab.research.google.com/assets/colab-badge.svg\" alt=\"Open In Colab\"/></a>"
      ]
    },
    {
      "cell_type": "code",
      "metadata": {
        "colab": {
          "base_uri": "https://localhost:8080/"
        },
        "id": "GC_6PeobwwkH",
        "outputId": "5435d0fa-9814-4fdd-9e4c-bef14fed9cce"
      },
      "source": [
        "import torch\n",
        "from torch.autograd import Variable\n",
        "import torch.nn as nn\n",
        "import torch.nn.functional as F\n",
        "import torch.optim as optim\n",
        "import numpy as np\n",
        "import matplotlib.pyplot as plt\n",
        "%matplotlib inline\n",
        "torch.manual_seed(2)"
      ],
      "execution_count": 1,
      "outputs": [
        {
          "output_type": "execute_result",
          "data": {
            "text/plain": [
              "<torch._C.Generator at 0x7fc56aa9dbb0>"
            ]
          },
          "metadata": {
            "tags": []
          },
          "execution_count": 1
        }
      ]
    },
    {
      "cell_type": "code",
      "metadata": {
        "id": "bL64bMTkw2GP"
      },
      "source": [
        "X = torch.Tensor([[0,0], [0,1], [1,0], [1,1]])\n",
        "Y = torch.Tensor([0, 1, 1, 0]).view(-1,1)"
      ],
      "execution_count": 2,
      "outputs": []
    },
    {
      "cell_type": "code",
      "metadata": {
        "id": "aC82kEAIw3Wf"
      },
      "source": [
        "class XOR(nn.Module):\n",
        "    def __init__(self, input_dim = 2, output_dim=1):\n",
        "        super(XOR, self).__init__()\n",
        "        self.lin1 = nn.Linear(input_dim, 2)\n",
        "        self.lin2 = nn.Linear(2, 4)\n",
        "        self.lin3 = nn.Linear(4, 4)\n",
        "        self.lin4 = nn.Linear(4, output_dim)\n",
        "    \n",
        "    def forward(self, x):\n",
        "        x = self.lin1(x)\n",
        "        x = F.tanh(x)\n",
        "        x = self.lin2(x)\n",
        "        x = F.tanh(x)\n",
        "        x = self.lin3(x)\n",
        "        x = F.tanh(x)\n",
        "        x = self.lin4(x)\n",
        "        # x = F.tanh(x)\n",
        "        return x"
      ],
      "execution_count": 3,
      "outputs": []
    },
    {
      "cell_type": "code",
      "metadata": {
        "colab": {
          "base_uri": "https://localhost:8080/"
        },
        "id": "8gQIQExYw65K",
        "outputId": "2880ff8f-d88e-41fb-ae0f-b0fce51d8817"
      },
      "source": [
        "model = XOR()\n",
        "print(model)\n",
        "from torchsummary import summary\n",
        "summary(model, (2,2))"
      ],
      "execution_count": 4,
      "outputs": [
        {
          "output_type": "stream",
          "text": [
            "XOR(\n",
            "  (lin1): Linear(in_features=2, out_features=2, bias=True)\n",
            "  (lin2): Linear(in_features=2, out_features=4, bias=True)\n",
            "  (lin3): Linear(in_features=4, out_features=4, bias=True)\n",
            "  (lin4): Linear(in_features=4, out_features=1, bias=True)\n",
            ")\n",
            "----------------------------------------------------------------\n",
            "        Layer (type)               Output Shape         Param #\n",
            "================================================================\n",
            "            Linear-1                 [-1, 2, 2]               6\n",
            "            Linear-2                 [-1, 2, 4]              12\n",
            "            Linear-3                 [-1, 2, 4]              20\n",
            "            Linear-4                 [-1, 2, 1]               5\n",
            "================================================================\n",
            "Total params: 43\n",
            "Trainable params: 43\n",
            "Non-trainable params: 0\n",
            "----------------------------------------------------------------\n",
            "Input size (MB): 0.00\n",
            "Forward/backward pass size (MB): 0.00\n",
            "Params size (MB): 0.00\n",
            "Estimated Total Size (MB): 0.00\n",
            "----------------------------------------------------------------\n"
          ],
          "name": "stdout"
        },
        {
          "output_type": "stream",
          "text": [
            "/usr/local/lib/python3.7/dist-packages/torch/nn/functional.py:1698: UserWarning: nn.functional.tanh is deprecated. Use torch.tanh instead.\n",
            "  warnings.warn(\"nn.functional.tanh is deprecated. Use torch.tanh instead.\")\n"
          ],
          "name": "stderr"
        }
      ]
    },
    {
      "cell_type": "code",
      "metadata": {
        "id": "yeotEq19x6XF"
      },
      "source": [
        "def weights_init(model):\n",
        "    for m in model.modules():\n",
        "        if isinstance(m, nn.Linear):\n",
        "            # initialize the weight tensor, here we use a normal distribution\n",
        "            m.weight.data.normal_(0, 1)\n",
        "\n",
        "weights_init(model)"
      ],
      "execution_count": 5,
      "outputs": []
    },
    {
      "cell_type": "code",
      "metadata": {
        "id": "WrD_sNzLx78e"
      },
      "source": [
        "loss_func = nn.L1Loss()"
      ],
      "execution_count": 6,
      "outputs": []
    },
    {
      "cell_type": "code",
      "metadata": {
        "id": "-zvbrMd2x_lA"
      },
      "source": [
        "optimizer = optim.SGD(model.parameters(), lr=0.02, momentum=0.9)\n"
      ],
      "execution_count": 7,
      "outputs": []
    },
    {
      "cell_type": "code",
      "metadata": {
        "colab": {
          "base_uri": "https://localhost:8080/"
        },
        "id": "q7tWa3D7yA5X",
        "outputId": "b759b620-9855-494a-ad6e-89ea05651398"
      },
      "source": [
        "epochs = 2001\n",
        "steps = X.size(0)\n",
        "for i in range(epochs):\n",
        "    for j in range(steps):\n",
        "        data_point = np.random.randint(X.size(0))\n",
        "        x_var = Variable(X[data_point], requires_grad=False)\n",
        "        y_var = Variable(Y[data_point], requires_grad=False)\n",
        "        \n",
        "        optimizer.zero_grad()\n",
        "        y_hat = model(x_var)\n",
        "        loss = loss_func.forward(y_hat, y_var)\n",
        "        loss.backward()\n",
        "        optimizer.step()\n",
        "        \n",
        "    if i % 50 == 0:\n",
        "        print( \"Epoch: {0}, Loss: {1}, \".format(i, loss.data.numpy()))"
      ],
      "execution_count": 8,
      "outputs": [
        {
          "output_type": "stream",
          "text": [
            "Epoch: 0, Loss: 0.7893269658088684, \n"
          ],
          "name": "stdout"
        },
        {
          "output_type": "stream",
          "text": [
            "/usr/local/lib/python3.7/dist-packages/torch/nn/functional.py:1698: UserWarning: nn.functional.tanh is deprecated. Use torch.tanh instead.\n",
            "  warnings.warn(\"nn.functional.tanh is deprecated. Use torch.tanh instead.\")\n"
          ],
          "name": "stderr"
        },
        {
          "output_type": "stream",
          "text": [
            "Epoch: 50, Loss: 0.0036286115646362305, \n",
            "Epoch: 100, Loss: 0.5589500665664673, \n",
            "Epoch: 150, Loss: 0.3913959860801697, \n",
            "Epoch: 200, Loss: 0.031178057193756104, \n",
            "Epoch: 250, Loss: 0.3440091609954834, \n",
            "Epoch: 300, Loss: 0.09425607323646545, \n",
            "Epoch: 350, Loss: 0.030631422996520996, \n",
            "Epoch: 400, Loss: 0.11449968814849854, \n",
            "Epoch: 450, Loss: 0.03392678499221802, \n",
            "Epoch: 500, Loss: 0.03325238823890686, \n",
            "Epoch: 550, Loss: 0.07841241359710693, \n",
            "Epoch: 600, Loss: 0.0017893314361572266, \n",
            "Epoch: 650, Loss: 0.05782526731491089, \n",
            "Epoch: 700, Loss: 0.012511730194091797, \n",
            "Epoch: 750, Loss: 0.034446150064468384, \n",
            "Epoch: 800, Loss: 0.2712914049625397, \n",
            "Epoch: 850, Loss: 0.07985657453536987, \n",
            "Epoch: 900, Loss: 0.1244230568408966, \n",
            "Epoch: 950, Loss: 0.07843589782714844, \n",
            "Epoch: 1000, Loss: 0.0951012372970581, \n",
            "Epoch: 1050, Loss: 0.0881543755531311, \n",
            "Epoch: 1100, Loss: 0.13129347562789917, \n",
            "Epoch: 1150, Loss: 0.04895663261413574, \n",
            "Epoch: 1200, Loss: 0.11480832099914551, \n",
            "Epoch: 1250, Loss: 0.05730235576629639, \n",
            "Epoch: 1300, Loss: 0.0914497971534729, \n",
            "Epoch: 1350, Loss: 0.11188864707946777, \n",
            "Epoch: 1400, Loss: 0.006430149078369141, \n",
            "Epoch: 1450, Loss: 0.17330223321914673, \n",
            "Epoch: 1500, Loss: 0.09063458442687988, \n",
            "Epoch: 1550, Loss: 0.009056568145751953, \n",
            "Epoch: 1600, Loss: 0.0377047061920166, \n",
            "Epoch: 1650, Loss: 0.2246391773223877, \n",
            "Epoch: 1700, Loss: 0.11566543579101562, \n",
            "Epoch: 1750, Loss: 0.10309374332427979, \n",
            "Epoch: 1800, Loss: 0.06213998794555664, \n",
            "Epoch: 1850, Loss: 0.19855034351348877, \n",
            "Epoch: 1900, Loss: 0.19685518741607666, \n",
            "Epoch: 1950, Loss: 0.19753217697143555, \n",
            "Epoch: 2000, Loss: 0.11603420972824097, \n"
          ],
          "name": "stdout"
        }
      ]
    },
    {
      "cell_type": "code",
      "metadata": {
        "id": "QV0dIdveyCRi"
      },
      "source": [
        ""
      ],
      "execution_count": 8,
      "outputs": []
    }
  ]
}